{
 "cells": [
  {
   "cell_type": "code",
   "execution_count": 1,
   "metadata": {},
   "outputs": [],
   "source": [
    "import numpy as np, pandas as pd, matplotlib.pyplot as plt, seaborn as sns\n",
    "import requests\n",
    "import html5lib\n",
    "from selenium import webdriver\n",
    "import re"
   ]
  },
  {
   "cell_type": "code",
   "execution_count": 4,
   "metadata": {},
   "outputs": [
    {
     "name": "stdout",
     "output_type": "stream",
     "text": [
      "4178 2100 3904\n"
     ]
    }
   ],
   "source": [
    "aucRd2 = pd.read_csv('../Auction1001/data/unused/Auc1001_Rd2.csv')\n",
    "aucRd3 = pd.read_csv('../Auction1001/data/unused/Auc1001_Rd3.csv')\n",
    "aucRd4 = pd.read_csv('../Auction1001/data/unused/Auc1001_Rd4.csv')\n",
    "print(aucRd2.shape[0], aucRd3.shape[0], aucRd4.shape[0])"
   ]
  },
  {
   "cell_type": "code",
   "execution_count": 5,
   "metadata": {},
   "outputs": [
    {
     "name": "stderr",
     "output_type": "stream",
     "text": [
      "/var/folders/0f/j4jr12k11rn02k94sy347xgm0000gn/T/ipykernel_32817/368376441.py:4: FutureWarning: pivot_table dropped a column because it failed to aggregate. This behavior is deprecated and will raise in a future version of pandas. Select only the columns that can be aggregated.\n",
      "  aucs24Station = aucs2_4.pivot_table(index = 'facility_id', aggfunc='mean')\n"
     ]
    },
    {
     "data": {
      "text/html": [
       "<div>\n",
       "<style scoped>\n",
       "    .dataframe tbody tr th:only-of-type {\n",
       "        vertical-align: middle;\n",
       "    }\n",
       "\n",
       "    .dataframe tbody tr th {\n",
       "        vertical-align: top;\n",
       "    }\n",
       "\n",
       "    .dataframe thead th {\n",
       "        text-align: right;\n",
       "    }\n",
       "</style>\n",
       "<table border=\"1\" class=\"dataframe\">\n",
       "  <thead>\n",
       "    <tr style=\"text-align: right;\">\n",
       "      <th></th>\n",
       "      <th>auction_id</th>\n",
       "      <th>benchmark_overprice</th>\n",
       "      <th>bid_option_price</th>\n",
       "      <th>frn</th>\n",
       "      <th>random_number</th>\n",
       "      <th>round</th>\n",
       "      <th>stage</th>\n",
       "    </tr>\n",
       "    <tr>\n",
       "      <th>facility_id</th>\n",
       "      <th></th>\n",
       "      <th></th>\n",
       "      <th></th>\n",
       "      <th></th>\n",
       "      <th></th>\n",
       "      <th></th>\n",
       "      <th></th>\n",
       "    </tr>\n",
       "  </thead>\n",
       "  <tbody>\n",
       "    <tr>\n",
       "      <th>60555</th>\n",
       "      <td>1001</td>\n",
       "      <td>56.287500</td>\n",
       "      <td>7.526001e+08</td>\n",
       "      <td>5414917</td>\n",
       "      <td>0.669258</td>\n",
       "      <td>2.0</td>\n",
       "      <td>2.333333</td>\n",
       "    </tr>\n",
       "    <tr>\n",
       "      <th>73356</th>\n",
       "      <td>1001</td>\n",
       "      <td>42.750000</td>\n",
       "      <td>6.995191e+08</td>\n",
       "      <td>3720042</td>\n",
       "      <td>0.188821</td>\n",
       "      <td>1.5</td>\n",
       "      <td>2.000000</td>\n",
       "    </tr>\n",
       "    <tr>\n",
       "      <th>38336</th>\n",
       "      <td>1001</td>\n",
       "      <td>39.049987</td>\n",
       "      <td>5.915420e+08</td>\n",
       "      <td>18265660</td>\n",
       "      <td>0.312903</td>\n",
       "      <td>3.0</td>\n",
       "      <td>2.000000</td>\n",
       "    </tr>\n",
       "    <tr>\n",
       "      <th>47535</th>\n",
       "      <td>1001</td>\n",
       "      <td>24.969265</td>\n",
       "      <td>4.421528e+08</td>\n",
       "      <td>19509470</td>\n",
       "      <td>0.545896</td>\n",
       "      <td>14.5</td>\n",
       "      <td>3.821429</td>\n",
       "    </tr>\n",
       "    <tr>\n",
       "      <th>74156</th>\n",
       "      <td>1001</td>\n",
       "      <td>24.969265</td>\n",
       "      <td>4.373133e+08</td>\n",
       "      <td>10622041</td>\n",
       "      <td>0.524008</td>\n",
       "      <td>14.5</td>\n",
       "      <td>3.821429</td>\n",
       "    </tr>\n",
       "    <tr>\n",
       "      <th>...</th>\n",
       "      <td>...</td>\n",
       "      <td>...</td>\n",
       "      <td>...</td>\n",
       "      <td>...</td>\n",
       "      <td>...</td>\n",
       "      <td>...</td>\n",
       "      <td>...</td>\n",
       "    </tr>\n",
       "    <tr>\n",
       "      <th>48659</th>\n",
       "      <td>1001</td>\n",
       "      <td>6.736134</td>\n",
       "      <td>6.574130e+05</td>\n",
       "      <td>18223693</td>\n",
       "      <td>0.211583</td>\n",
       "      <td>50.0</td>\n",
       "      <td>4.000000</td>\n",
       "    </tr>\n",
       "    <tr>\n",
       "      <th>68905</th>\n",
       "      <td>1001</td>\n",
       "      <td>9.000000</td>\n",
       "      <td>5.995325e+05</td>\n",
       "      <td>4318853</td>\n",
       "      <td>0.051084</td>\n",
       "      <td>50.0</td>\n",
       "      <td>2.000000</td>\n",
       "    </tr>\n",
       "    <tr>\n",
       "      <th>38584</th>\n",
       "      <td>1001</td>\n",
       "      <td>5.226891</td>\n",
       "      <td>5.081320e+05</td>\n",
       "      <td>19066166</td>\n",
       "      <td>0.667971</td>\n",
       "      <td>51.0</td>\n",
       "      <td>2.000000</td>\n",
       "    </tr>\n",
       "    <tr>\n",
       "      <th>30429</th>\n",
       "      <td>1001</td>\n",
       "      <td>3.340336</td>\n",
       "      <td>4.796420e+05</td>\n",
       "      <td>3768876</td>\n",
       "      <td>0.294704</td>\n",
       "      <td>51.5</td>\n",
       "      <td>4.000000</td>\n",
       "    </tr>\n",
       "    <tr>\n",
       "      <th>32216</th>\n",
       "      <td>1001</td>\n",
       "      <td>6.170168</td>\n",
       "      <td>4.189170e+05</td>\n",
       "      <td>21840418</td>\n",
       "      <td>0.378673</td>\n",
       "      <td>50.5</td>\n",
       "      <td>2.000000</td>\n",
       "    </tr>\n",
       "  </tbody>\n",
       "</table>\n",
       "<p>466 rows × 7 columns</p>\n",
       "</div>"
      ],
      "text/plain": [
       "             auction_id  benchmark_overprice  bid_option_price       frn  \\\n",
       "facility_id                                                                \n",
       "60555              1001            56.287500      7.526001e+08   5414917   \n",
       "73356              1001            42.750000      6.995191e+08   3720042   \n",
       "38336              1001            39.049987      5.915420e+08  18265660   \n",
       "47535              1001            24.969265      4.421528e+08  19509470   \n",
       "74156              1001            24.969265      4.373133e+08  10622041   \n",
       "...                 ...                  ...               ...       ...   \n",
       "48659              1001             6.736134      6.574130e+05  18223693   \n",
       "68905              1001             9.000000      5.995325e+05   4318853   \n",
       "38584              1001             5.226891      5.081320e+05  19066166   \n",
       "30429              1001             3.340336      4.796420e+05   3768876   \n",
       "32216              1001             6.170168      4.189170e+05  21840418   \n",
       "\n",
       "             random_number  round     stage  \n",
       "facility_id                                  \n",
       "60555             0.669258    2.0  2.333333  \n",
       "73356             0.188821    1.5  2.000000  \n",
       "38336             0.312903    3.0  2.000000  \n",
       "47535             0.545896   14.5  3.821429  \n",
       "74156             0.524008   14.5  3.821429  \n",
       "...                    ...    ...       ...  \n",
       "48659             0.211583   50.0  4.000000  \n",
       "68905             0.051084   50.0  2.000000  \n",
       "38584             0.667971   51.0  2.000000  \n",
       "30429             0.294704   51.5  4.000000  \n",
       "32216             0.378673   50.5  2.000000  \n",
       "\n",
       "[466 rows x 7 columns]"
      ]
     },
     "execution_count": 5,
     "metadata": {},
     "output_type": "execute_result"
    }
   ],
   "source": [
    "aucs2_4 = pd.concat([aucRd2, aucRd3, aucRd4], axis = 0)\n",
    "aucs2_4.fillna(np.nan, inplace=True)\n",
    "\n",
    "aucs24Station = aucs2_4.pivot_table(index = 'facility_id', aggfunc='mean')\n",
    "aucs24Station.sort_values('bid_option_price', inplace=True, ascending=False)\n",
    "aucs24Station.dropna(axis=0, inplace=True)\n",
    "aucs24Station"
   ]
  },
  {
   "cell_type": "code",
   "execution_count": 6,
   "metadata": {},
   "outputs": [
    {
     "data": {
      "text/plain": [
       "<seaborn.axisgrid.FacetGrid at 0x7f9652f5fd90>"
      ]
     },
     "execution_count": 6,
     "metadata": {},
     "output_type": "execute_result"
    },
    {
     "data": {
      "image/png": "[encoded data removed]",
      "text/plain": [
       "<Figure size 360x360 with 1 Axes>"
      ]
     },
     "metadata": {
      "needs_background": "light"
     },
     "output_type": "display_data"
    }
   ],
   "source": [
    "sns.relplot(data = aucs24Station, x = 'round', y='bid_option_price', kind='scatter')"
   ]
  },
  {
   "cell_type": "code",
   "execution_count": 8,
   "metadata": {},
   "outputs": [
    {
     "data": {
      "text/plain": [
       "1030"
      ]
     },
     "execution_count": 8,
     "metadata": {},
     "output_type": "execute_result"
    }
   ],
   "source": [
    "stations = pd.read_csv('data/auc_stations.csv')\n",
    "stations.head()\n",
    "\n",
    "len(aucs2_4['bid_option_price'])\n",
    "len(stations['off_air_opening_price'])"
   ]
  },
  {
   "cell_type": "code",
   "execution_count": 9,
   "metadata": {},
   "outputs": [
    {
     "data": {
      "text/plain": [
       "<seaborn.axisgrid.FacetGrid at 0x7f9652f5fd30>"
      ]
     },
     "execution_count": 9,
     "metadata": {},
     "output_type": "execute_result"
    },
    {
     "data": {
      "image/png": "[encoded data removed]",
      "text/plain": [
       "<Figure size 360x360 with 1 Axes>"
      ]
     },
     "metadata": {
      "needs_background": "light"
     },
     "output_type": "display_data"
    }
   ],
   "source": [
    "sns.relplot(data = stations, y= 'off_air_opening_price', x= 'volume')"
   ]
  },
  {
   "cell_type": "code",
   "execution_count": 10,
   "metadata": {},
   "outputs": [
    {
     "data": {
      "text/plain": [
       "(0, 9)"
      ]
     },
     "execution_count": 10,
     "metadata": {},
     "output_type": "execute_result"
    }
   ],
   "source": [
    "costData = pd.read_html('https://meric.mo.gov/data/cost-living-data-series')[0]\n",
    "'''colList = [d[0] for d in costData.columns]\n",
    "dataList = np.array([pd.Series(d[1:]) for d in costData.columns])\n",
    "\n",
    "pd.DataFrame(dataList, columns=colList)\n",
    "dataList'''\n",
    "\n",
    "costData.columns.to_frame(index=False)\n",
    "costData.head()\n",
    "costData.shape"
   ]
  },
  {
   "cell_type": "code",
   "execution_count": 11,
   "metadata": {},
   "outputs": [],
   "source": [
    "url = requests.get('https://auctiondata.fcc.gov/public/projects/1000/reports/reverse-bids')\n",
    "page = url.text\n",
    "query = re.findall('window.AwFormatting.units = (.*)', page)[0]"
   ]
  }
 ],
 "metadata": {
  "kernelspec": {
   "display_name": "base",
   "language": "python",
   "name": "python3"
  },
  "language_info": {
   "codemirror_mode": {
    "name": "ipython",
    "version": 3
   },
   "file_extension": ".py",
   "mimetype": "text/x-python",
   "name": "python",
   "nbconvert_exporter": "python",
   "pygments_lexer": "ipython3",
   "version": "3.9.12"
  },
  "orig_nbformat": 4,
  "vscode": {
   "interpreter": {
    "hash": "a0e1a6da8fdfbd8e8573f5b6deb86d22b24be091808eb94e3ca2f0153b1bbe18"
   }
  }
 },
 "nbformat": 4,
 "nbformat_minor": 2
}
