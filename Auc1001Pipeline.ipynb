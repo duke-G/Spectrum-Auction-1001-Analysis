{
 "cells": [
  {
   "cell_type": "code",
   "execution_count": null,
   "metadata": {},
   "outputs": [],
   "source": [
    "import numpy as np, pandas as pd, seaborn as sns, matplotlib.pyplot as plt, plotly.express as px\n",
    "\n",
    "from sklearn.model_selection import train_test_split\n",
    "from sklearn.linear_model import LinearRegression, Ridge, Lasso\n",
    "from sklearn.metrics import mean_squared_error, mean_absolute_error, mean_absolute_percentage_error"
   ]
  },
  {
   "attachments": {},
   "cell_type": "markdown",
   "metadata": {},
   "source": [
    "---\n",
    "## Loading/Saving Data\n",
    " - `census_zip`: census demographic data by zipcode\n",
    " - `age_census`: census age data by zipcode\n",
    " - `area_facility`: population and area by facility ID\n",
    "    - separated by **noise limited**, **terrain limited**, and **interference free**\n",
    "    - only `interference free` used\n",
    " - `win_bids`:  winning bids data on Auction 1001\n",
    " - `dma_county`: dma to county mapping (11 split counties)\n",
    " - `demographic_county`: census demographic data by county\n",
    " - `education_county`: census education data by county\n",
    " - `dma_zip`: dma to zipcode mapping\n",
    " "
   ]
  },
  {
   "cell_type": "code",
   "execution_count": null,
   "metadata": {},
   "outputs": [],
   "source": [
    "census_zip = pd.read_csv(\"data/census_zip.csv\", engine=\"pyarrow\")\n",
    "age_census = pd.read_csv('data/census/age_census.csv', header=1, engine='pyarrow')\n",
    "area_facility = pd.read_excel(\"data/areaFacility.xlsx\", header=5)\n",
    "win_bids = pd.read_csv(\"data/winning_bids.csv\")\n",
    "dma_county = pd.read_csv(\"data/dma_to_county.csv\", engine=\"pyarrow\")\n",
    "demographic_county = pd.read_csv(\"data/census/demographic_county.csv\", header=1, engine=\"c\")\n",
    "education_county = pd.read_csv(\"data/census/education_county.csv\", header=1, engine=\"pyarrow\")\n",
    "dma_zip = pd.read_csv(\"data/dma_to_zipcode.csv\", engine='pyarrow')"
   ]
  },
  {
   "attachments": {},
   "cell_type": "markdown",
   "metadata": {},
   "source": [
    "---\n",
    "#### Exploratory Analysis on `age_census`"
   ]
  },
  {
   "cell_type": "code",
   "execution_count": null,
   "metadata": {},
   "outputs": [],
   "source": [
    "age_census.head()"
   ]
  },
  {
   "attachments": {},
   "cell_type": "markdown",
   "metadata": {},
   "source": [
    "#### Renaming columns of `age_census` for readability"
   ]
  },
  {
   "cell_type": "code",
   "execution_count": null,
   "metadata": {},
   "outputs": [],
   "source": [
    "def column_rename(df):\n",
    "    new_columns = []\n",
    "\n",
    "    new_columns.append(df.columns[0])\n",
    "    new_columns.append(df.columns[1])\n",
    "\n",
    "    for c in range(2, len(df.columns)):\n",
    "        new_columns.append(\"_\".join(df.columns[c].split(\"!!\")))\n",
    "\n",
    "    df.columns = new_columns\n",
    "\n",
    "    return df\n",
    "\n",
    "age_census = column_rename(age_census)"
   ]
  },
  {
   "attachments": {},
   "cell_type": "markdown",
   "metadata": {},
   "source": [
    "#### Create `zipcode` column from ZCTA data"
   ]
  },
  {
   "cell_type": "code",
   "execution_count": null,
   "metadata": {},
   "outputs": [],
   "source": [
    "age_census['zipcode'] = age_census[\"Geography\"].apply(lambda x: x.split(\"US\")[1])\n",
    "\n",
    "age_census['zipcode'] = pd.to_numeric(age_census['zipcode'])"
   ]
  },
  {
   "cell_type": "code",
   "execution_count": null,
   "metadata": {},
   "outputs": [],
   "source": [
    "age_census = age_census.rename({\"S0101_C01_032E\":\"age\"},axis=1)\n",
    "age_census.head()"
   ]
  },
  {
   "attachments": {},
   "cell_type": "markdown",
   "metadata": {},
   "source": [
    "#### Dropping all non-numeric columns from `age_census`"
   ]
  },
  {
   "cell_type": "code",
   "execution_count": null,
   "metadata": {},
   "outputs": [],
   "source": [
    "tot_population = \"Estimate_Total_Total population\"\n",
    "\n",
    "age_census = age_census._get_numeric_data()\n",
    "\n",
    "age_census.head()"
   ]
  },
  {
   "attachments": {},
   "cell_type": "markdown",
   "metadata": {},
   "source": [
    "#### Reorganize `age_census` – zipcode first"
   ]
  },
  {
   "cell_type": "code",
   "execution_count": null,
   "metadata": {},
   "outputs": [],
   "source": [
    "age_census = pd.concat([age_census['zipcode'], age_census.iloc[:,:-1]], axis=1)\n",
    "\n",
    "age_census.head()"
   ]
  },
  {
   "attachments": {},
   "cell_type": "markdown",
   "metadata": {},
   "source": [
    "#### Cleaning `age_census` - remove unneeded columns"
   ]
  },
  {
   "cell_type": "code",
   "execution_count": null,
   "metadata": {},
   "outputs": [],
   "source": [
    "for c in age_census.columns:\n",
    "    if \"argin\" in c:\n",
    "        age_census = age_census.drop(c, axis=1)\n",
    "\n",
    "age_census.head()"
   ]
  },
  {
   "attachments": {},
   "cell_type": "markdown",
   "metadata": {},
   "source": [
    "#### Saving numeric `age_census` data to memory"
   ]
  },
  {
   "cell_type": "code",
   "execution_count": null,
   "metadata": {},
   "outputs": [],
   "source": [
    "age_census.to_csv(\"data/age_sex_census.csv\", index=False)"
   ]
  },
  {
   "attachments": {},
   "cell_type": "markdown",
   "metadata": {},
   "source": [
    "---\n",
    "### Working with `area_facility`"
   ]
  },
  {
   "cell_type": "code",
   "execution_count": null,
   "metadata": {},
   "outputs": [],
   "source": [
    "area_facility.head()"
   ]
  },
  {
   "attachments": {},
   "cell_type": "markdown",
   "metadata": {},
   "source": [
    "#### Dropping *noise limited* and *terrain limited* population/area)"
   ]
  },
  {
   "cell_type": "code",
   "execution_count": null,
   "metadata": {},
   "outputs": [],
   "source": [
    "for c in area_facility.columns:\n",
    "    if ('Area' in c or 'Population' in c) and \".2\" not in c:\n",
    "        area_facility = area_facility.drop(c, axis=1)\n",
    "\n",
    "area_facility = (area_facility\n",
    "                .rename({\"Area.2\":\"Area\", \n",
    "                \"Population.2\":\"Population\",\n",
    "                \"FacID\":\"facility_id\"}, axis=1)\n",
    "                .drop(\"Unnamed: 0\", axis=1))\n",
    "\n",
    "area_facility.head()"
   ]
  },
  {
   "attachments": {},
   "cell_type": "markdown",
   "metadata": {},
   "source": [
    "---\n",
    "### Exploratory analysis on `win_bids`"
   ]
  },
  {
   "cell_type": "code",
   "execution_count": null,
   "metadata": {},
   "outputs": [],
   "source": [
    "win_bids.head()"
   ]
  },
  {
   "attachments": {},
   "cell_type": "markdown",
   "metadata": {},
   "source": [
    "#### Compressing dataypes within `win_bids`"
   ]
  },
  {
   "cell_type": "code",
   "execution_count": null,
   "metadata": {},
   "outputs": [],
   "source": [
    "win_bids.winning_bid_option = win_bids.winning_bid_option.astype('category')"
   ]
  },
  {
   "attachments": {},
   "cell_type": "markdown",
   "metadata": {},
   "source": [
    "#### Initial visualizations of `win_bids` data"
   ]
  },
  {
   "cell_type": "code",
   "execution_count": null,
   "metadata": {},
   "outputs": [],
   "source": [
    "fig, axes = plt.subplots(1, 3, figsize=(12,8))\n",
    "\n",
    "# Winning Bids by Facility\n",
    "win_bids.plot(ax = axes[0], x = 'facility_id', y='compensation', kind='scatter', \n",
    "            title = \"Final Winning Bids by Facility\", xlabel='Facility ID', ylabel= 'Winning Bid')\n",
    "\n",
    "\n",
    "# Histogram of Winning Bids\n",
    "win_bids['compensation'].plot(ax = axes[1], kind='hist', title = 'Distribution of Winning Bids', ylabel= 'Winning Bid')\n",
    "\n",
    "\n",
    "# Histogram of logged Winning Bids\n",
    "np.log(win_bids.query('compensation > 0')['compensation']).plot(ax = axes[2], kind='hist', title = 'Logged Distribution of Winning Bids', ylabel= 'Winning Bid')"
   ]
  },
  {
   "attachments": {},
   "cell_type": "markdown",
   "metadata": {},
   "source": [
    "#### `win_bids` condensed & sorted into `win_bids_small`"
   ]
  },
  {
   "cell_type": "code",
   "execution_count": null,
   "metadata": {},
   "outputs": [],
   "source": [
    "win_bids_small = (win_bids[['facility_id', 'dma', 'winning_bid_option', 'compensation']]\n",
    "                .sort_values('compensation', ascending=False))\n",
    "\n",
    "win_bids_small.head()"
   ]
  },
  {
   "attachments": {},
   "cell_type": "markdown",
   "metadata": {},
   "source": [
    "#### Outliers by winning bid (DMA - Facility_ID - Bid)\n",
    " - **Chicago, IL - 998 - $304,250,040**\n",
    "---"
   ]
  },
  {
   "cell_type": "code",
   "execution_count": null,
   "metadata": {},
   "outputs": [],
   "source": [
    "area_facility.head()"
   ]
  },
  {
   "attachments": {},
   "cell_type": "markdown",
   "metadata": {},
   "source": [
    "#### Writing `create_dma_upper` function"
   ]
  },
  {
   "cell_type": "code",
   "execution_count": null,
   "metadata": {},
   "outputs": [],
   "source": [
    "def create_dma_upper(df):\n",
    "    df[\"dma_upper\"] = df.dma.apply(lambda x: x.upper().split(\"-\")[0].split(\",\")[0])\n",
    "    return"
   ]
  },
  {
   "cell_type": "code",
   "execution_count": null,
   "metadata": {},
   "outputs": [],
   "source": [
    "win_bids_small.head()\n",
    "\n",
    "create_dma_upper(win_bids_small)\n",
    "\n",
    "win_bids_small.head()"
   ]
  },
  {
   "attachments": {},
   "cell_type": "markdown",
   "metadata": {},
   "source": [
    "---\n",
    "#### Combining `area_facility` & `win_bids`"
   ]
  },
  {
   "cell_type": "code",
   "execution_count": null,
   "metadata": {},
   "outputs": [],
   "source": [
    "win_bids_area = area_facility.merge(win_bids_small, on='facility_id', how=\"right\")\n",
    "\n",
    "win_bids_area.head()"
   ]
  },
  {
   "cell_type": "code",
   "execution_count": null,
   "metadata": {},
   "outputs": [],
   "source": [
    "# win_bids_area.to_csv(\"data/merged_bid_area.csv\")"
   ]
  },
  {
   "attachments": {},
   "cell_type": "markdown",
   "metadata": {},
   "source": [
    "---\n",
    "## Census Pipeline"
   ]
  },
  {
   "cell_type": "code",
   "execution_count": null,
   "metadata": {},
   "outputs": [],
   "source": [
    "def column_rename(df):\n",
    "        new_columns = []\n",
    "\n",
    "        new_columns.append(df.columns[0])\n",
    "        new_columns.append(df.columns[1])\n",
    "\n",
    "        for c in range(2, len(df.columns)):\n",
    "            new_columns.append(\"_\".join(df.columns[c].split(\"!!\")))\n",
    "\n",
    "        df.columns = new_columns\n",
    "\n",
    "        return df\n",
    "\n",
    "def census_pipeline(df):\n",
    "\n",
    "    # Column renaming\n",
    "    df = column_rename(df)\n",
    "\n",
    "    # Zipcode creation\n",
    "    if 'Geography' in df.columns:\n",
    "        df['zipcode'] = df[\"Geography\"].apply(lambda x: x.split(\"US\")[1])\n",
    "        df['zipcode'] = pd.to_numeric(df['zipcode'])\n",
    "    \n",
    "    if \"Geographic Area Name\" in df.columns:\n",
    "        df = df.rename({\"Geographic Area Name\":\"county\"}, axis=1)\n",
    "        df[\"county\"] = df['county'].apply(lambda x: x.split(\"County\")[0])\n",
    "        series = df[\"county\"]\n",
    "\n",
    "    # Removing non-numerical data\n",
    "    df = df._get_numeric_data()\n",
    "\n",
    "    # Dropping margin of error columns\n",
    "    for c in df.columns:\n",
    "        if \"argin\" in c:\n",
    "            df = df.drop(c, axis=1)\n",
    "\n",
    "    # Reorganize data – zipcode first\n",
    "    if df.columns[0] != 'zipcode':\n",
    "        df = pd.concat([df['zipcode'], series, df.iloc[:,:-1]], axis=1)\n",
    "    \n",
    "\n",
    "    return df"
   ]
  },
  {
   "attachments": {},
   "cell_type": "markdown",
   "metadata": {},
   "source": [
    "### Working with `dma_county`"
   ]
  },
  {
   "cell_type": "code",
   "execution_count": null,
   "metadata": {},
   "outputs": [],
   "source": [
    "dma_county = pd.read_csv(\"data/dma_to_county.csv\", engine=\"pyarrow\")"
   ]
  },
  {
   "cell_type": "code",
   "execution_count": null,
   "metadata": {},
   "outputs": [],
   "source": [
    "def clean_dma_county(df):\n",
    "    df = df.rename({\"GOOGLE_DMA\":\"dma\"}, axis=1)\n",
    "\n",
    "    if ',' not in df[\"dma\"][0]:\n",
    "        df['dma'] = df['dma'].apply(lambda x: \", \".join(x.split(\" \")))\n",
    "        df = df.rename({\"COUNTY\":\"county\"},axis=1)\n",
    "\n",
    "    drop_dma_list = [\"STATEFP\", \"CNTYFP\", \"CNTYTVHH\", \"DMAINDEX\"]\n",
    "\n",
    "    if drop_dma_list[0] in df.columns:\n",
    "        df = df.drop(drop_dma_list, axis=1)\n",
    "\n",
    "    df['county'] = df['county'].str.rstrip()\n",
    "\n",
    "    df = df[df['dma'] != '#N/A']\n",
    "\n",
    "    create_dma_upper(df)\n",
    "\n",
    "    return df\n",
    "\n"
   ]
  },
  {
   "cell_type": "code",
   "execution_count": null,
   "metadata": {},
   "outputs": [],
   "source": [
    "dma_county = clean_dma_county(dma_county)\n",
    "\n",
    "dma_county.sort_values('dma')"
   ]
  },
  {
   "attachments": {},
   "cell_type": "markdown",
   "metadata": {},
   "source": [
    "---\n",
    "#### Running Census Data Pipeline on `demographic_county`"
   ]
  },
  {
   "cell_type": "code",
   "execution_count": null,
   "metadata": {},
   "outputs": [],
   "source": [
    "demographic_county.head()"
   ]
  },
  {
   "cell_type": "code",
   "execution_count": null,
   "metadata": {},
   "outputs": [],
   "source": [
    "demographic_county = census_pipeline(demographic_county)\n",
    "demographic_county.head()"
   ]
  },
  {
   "cell_type": "code",
   "execution_count": null,
   "metadata": {},
   "outputs": [],
   "source": [
    "demographic_county = demographic_county.dropna(axis=1)\n",
    "demographic_county.head()"
   ]
  },
  {
   "attachments": {},
   "cell_type": "markdown",
   "metadata": {},
   "source": [
    "#### Running Census Data Pipeline on `education_county`"
   ]
  },
  {
   "cell_type": "code",
   "execution_count": null,
   "metadata": {},
   "outputs": [],
   "source": [
    "education_county.head()"
   ]
  },
  {
   "cell_type": "code",
   "execution_count": null,
   "metadata": {},
   "outputs": [],
   "source": [
    "education_county = census_pipeline(education_county)\n",
    "education_county.head()"
   ]
  },
  {
   "attachments": {},
   "cell_type": "markdown",
   "metadata": {},
   "source": [
    "### Saving cleaned files to data"
   ]
  },
  {
   "cell_type": "code",
   "execution_count": null,
   "metadata": {},
   "outputs": [],
   "source": [
    "'''\n",
    "demographic_county.to_csv(\"data/demographic_county.csv\", index=False)\n",
    "education_county.to_csv(\"data/education_county.csv\", index=False)\n",
    "'''"
   ]
  },
  {
   "attachments": {},
   "cell_type": "markdown",
   "metadata": {},
   "source": [
    "---\n",
    "### Retrieving from checkpoint files\n",
    "- `_edited` versions manually edited in excel"
   ]
  },
  {
   "cell_type": "code",
   "execution_count": null,
   "metadata": {},
   "outputs": [],
   "source": [
    "demographic_county = pd.read_csv(\"data/demographic_county_edited.csv\", engine=\"pyarrow\")\n",
    "education_county = pd.read_csv(\"data/education_county_edited.csv\", engine=\"pyarrow\")"
   ]
  },
  {
   "attachments": {},
   "cell_type": "markdown",
   "metadata": {},
   "source": [
    "#### Working with `win_bids_area` and `dma_county`"
   ]
  },
  {
   "cell_type": "code",
   "execution_count": null,
   "metadata": {},
   "outputs": [],
   "source": [
    "win_bids_area.sort_values(\"dma\").head()"
   ]
  },
  {
   "cell_type": "code",
   "execution_count": null,
   "metadata": {},
   "outputs": [],
   "source": [
    "dma_county.sort_values(\"county\")"
   ]
  },
  {
   "attachments": {},
   "cell_type": "markdown",
   "metadata": {},
   "source": [
    "### Condensing columns to only include hand-selected demographic data in `education_county` and `demographic_county`"
   ]
  },
  {
   "cell_type": "code",
   "execution_count": null,
   "metadata": {},
   "outputs": [],
   "source": [
    "def condense_columns(df):\n",
    "    condensed = []\n",
    "\n",
    "    for c in df.columns:\n",
    "        # all lower case columns were hand-selected in excel file\n",
    "        if c.lower() == c:\n",
    "            condensed.append(c)\n",
    "    \n",
    "    df = df[condensed]\n",
    "\n",
    "    return df"
   ]
  },
  {
   "cell_type": "code",
   "execution_count": null,
   "metadata": {},
   "outputs": [],
   "source": [
    "demographic_county.head()"
   ]
  },
  {
   "cell_type": "code",
   "execution_count": null,
   "metadata": {},
   "outputs": [],
   "source": [
    "demographic_county = condense_columns(demographic_county)\n",
    "\n",
    "demographic_county"
   ]
  },
  {
   "cell_type": "code",
   "execution_count": null,
   "metadata": {},
   "outputs": [],
   "source": [
    "education_county = condense_columns(education_county)\n",
    "\n",
    "education_county"
   ]
  },
  {
   "attachments": {},
   "cell_type": "markdown",
   "metadata": {},
   "source": [
    "#### Merging `education_county` and `demographic_county` to combine demographics"
   ]
  },
  {
   "cell_type": "code",
   "execution_count": null,
   "metadata": {},
   "outputs": [],
   "source": [
    "education_demographic_county = (demographic_county.merge(education_county, on='county', how='inner')\n",
    "                                .drop('zipcode_y', axis=1)\n",
    "                                .rename({\"zipcode_x\":\"zipcode\"}, axis=1))\n",
    "\n",
    "education_demographic_county"
   ]
  },
  {
   "attachments": {},
   "cell_type": "markdown",
   "metadata": {},
   "source": [
    "#### DMA to zipcode mapping: `dma_zip`"
   ]
  },
  {
   "cell_type": "code",
   "execution_count": null,
   "metadata": {},
   "outputs": [],
   "source": [
    "dma_zip = (pd.read_csv(\"data/dma_to_zipcode.csv\", engine='pyarrow')\n",
    "        .rename({\"dma_description\":\"dma\", \n",
    "        \"zip_code\":\"zipcode\"}, axis=1)\n",
    "        [['zipcode', 'dma']]\n",
    "        .sort_values('dma'))\n",
    "\n",
    "dma_zip[\"dma_upper\"]= (dma_zip.dma.apply(lambda x: x.split(\"-\")[0].split(\",\")[0]))\n",
    "\n",
    "dma_zip"
   ]
  },
  {
   "attachments": {},
   "cell_type": "markdown",
   "metadata": {},
   "source": [
    "#### Merging `dma_county` & `dma_zip`"
   ]
  },
  {
   "cell_type": "code",
   "execution_count": null,
   "metadata": {},
   "outputs": [],
   "source": [
    "dma_county_zip = (dma_county.merge(dma_zip, on=\"dma_upper\", how=\"inner\")\n",
    "                  [['STATE', 'county', 'dma_x', 'zipcode', 'dma_upper']]\n",
    "                  .rename({\"dma_x\":\"dma\"}, axis=1))\n",
    "\n",
    "dma_county_zip.sort_values('county')[100:120]"
   ]
  },
  {
   "cell_type": "code",
   "execution_count": null,
   "metadata": {},
   "outputs": [],
   "source": [
    "education_demographic_county"
   ]
  },
  {
   "attachments": {},
   "cell_type": "markdown",
   "metadata": {},
   "source": [
    "#### Creating `education_demographic_county_zip` from `education_demographic_county` & `dma_zip`"
   ]
  },
  {
   "cell_type": "code",
   "execution_count": null,
   "metadata": {},
   "outputs": [],
   "source": [
    "education_demographic_county_zip = education_demographic_county.merge(dma_zip)\n",
    "\n",
    "education_demographic_county_zip"
   ]
  },
  {
   "attachments": {},
   "cell_type": "markdown",
   "metadata": {},
   "source": [
    "---\n",
    "#### Merging `education_demographic_county_zip` and `win_bids_small`"
   ]
  },
  {
   "cell_type": "code",
   "execution_count": null,
   "metadata": {},
   "outputs": [],
   "source": [
    "win_bids_small"
   ]
  },
  {
   "cell_type": "code",
   "execution_count": null,
   "metadata": {},
   "outputs": [],
   "source": [
    "full_data = (education_demographic_county_zip.merge(win_bids_small, on='dma_upper')\n",
    "                                        .drop('dma_x', axis=1)\n",
    "                                        .rename({'dma_y':'dma'}, axis=1))\n",
    "\n",
    "full_data.sort_values(\"facility_id\")"
   ]
  },
  {
   "attachments": {},
   "cell_type": "markdown",
   "metadata": {},
   "source": [
    "#### Adding weighted columns (by population)"
   ]
  },
  {
   "cell_type": "code",
   "execution_count": null,
   "metadata": {},
   "outputs": [],
   "source": [
    "def weighted_columns(df):\n",
    "    df = df.copy()\n",
    "\n",
    "    baseline = np.max(df['total_population'])\n",
    "\n",
    "    for c in df.columns[3:]:\n",
    "        if (type(df[c][0]) != str) and c != 'facility_id':\n",
    "            df[c] = df[c] * (df['total_population']/baseline)\n",
    "    return df\n"
   ]
  },
  {
   "cell_type": "code",
   "execution_count": null,
   "metadata": {},
   "outputs": [],
   "source": [
    "full_data_weighted = weighted_columns(full_data)\n",
    "\n",
    "full_data_weighted"
   ]
  },
  {
   "cell_type": "code",
   "execution_count": null,
   "metadata": {},
   "outputs": [],
   "source": [
    "full_by_facility = full_data.pivot_table(index='facility_id', aggfunc='mean')\n",
    "\n",
    "full_by_facility"
   ]
  },
  {
   "cell_type": "code",
   "execution_count": null,
   "metadata": {},
   "outputs": [],
   "source": [
    "# full_by_facility.to_csv(\"data/merged_demographic.csv\")"
   ]
  },
  {
   "attachments": {},
   "cell_type": "markdown",
   "metadata": {},
   "source": [
    "---\n",
    "### Visualizations of `full_by_facility`"
   ]
  },
  {
   "attachments": {},
   "cell_type": "markdown",
   "metadata": {},
   "source": [
    "##### Distribution of bids by `facility_id`"
   ]
  },
  {
   "cell_type": "code",
   "execution_count": null,
   "metadata": {},
   "outputs": [],
   "source": [
    "fig, axes = plt.subplots(1,2, figsize=(12,6))\n",
    "\n",
    "# Distribution of bids\n",
    "full_by_facility['compensation'].plot(ax = axes[0],kind=\"hist\", title = \"Distribution of Bids by `facility_id`\")\n",
    "\n",
    "# Log distribution of bids\n",
    "np.log(full_by_facility['compensation']).plot(ax = axes[1], kind=\"hist\", title = \"Log Distribution of Bids by `facility_id`\")"
   ]
  },
  {
   "attachments": {},
   "cell_type": "markdown",
   "metadata": {},
   "source": [
    "##### `full_by_facility` Plotting –  Scatterplots of Winning bids by Other Variables"
   ]
  },
  {
   "cell_type": "code",
   "execution_count": 175,
   "metadata": {},
   "outputs": [
    {
     "data": {
      "image/png": "[encoded data removed]",
      "text/plain": [
       "<Figure size 864x864 with 6 Axes>"
      ]
     },
     "metadata": {
      "needs_background": "light"
     },
     "output_type": "display_data"
    }
   ],
   "source": [
    "fig, axes = plt.subplots(3,2, figsize=(12,12), sharey=True)\n",
    "\n",
    "# fig.suptitle(\"Winning Bid Scatterplots on Various Features\")\n",
    "\n",
    "color_pal = sns.color_palette(palette='pastel', n_colors=4)\n",
    "\n",
    "for ax in axes.flatten():\n",
    "    ax.spines['top'].set_visible(False)\n",
    "    ax.spines['right'].set_visible(False)\n",
    "\n",
    "sns.scatterplot(ax = axes[0,0], data= full_by_facility, x = 'median_age', y='compensation', palette=color_pal)\\\n",
    "                .set(title = \"Winning Bid by Median Age\")\n",
    "\n",
    "sns.scatterplot(ax = axes[0,1], data= full_by_facility, x = 'total_population', y='compensation', palette=color_pal)\\\n",
    "                .set(title =\"Winning Bid by Total Population\")\n",
    "\n",
    "sns.scatterplot(ax = axes[1,0], data= full_by_facility, x ='percent_25yo_nohighschool', y= 'compensation', palette=color_pal)\\\n",
    "                .set(title = 'Winning Bid by Percentage of 25+ year olds Without High School Education')\n",
    "\n",
    "sns.scatterplot(ax = axes[1,1], data= full_by_facility, x ='percent_asian_only', y= 'compensation', palette=color_pal)\\\n",
    "                .set(title = 'Winning Bid by Asian Population (%)')\n",
    "\n",
    "sns.scatterplot(ax = axes[2,0], data= full_by_facility, x ='percent_white_only', y= 'compensation', palette=color_pal)\\\n",
    "                .set(title = 'Winning Bid by White Population (%)')\n",
    "\n",
    "sns.scatterplot(ax = axes[2,1], data= full_by_facility, x ='percent_black_only', y= 'compensation', palette=color_pal)\\\n",
    "                .set(title = 'Winning Bid by Black Population (%)')\n",
    "\n",
    "\n",
    "\n",
    "plt.tight_layout()\n",
    "\n",
    "plt.show()\n",
    "\n",
    "#px.scatter(data_frame=full_by_facility, x='percent_black_only', y='compensation')"
   ]
  },
  {
   "attachments": {},
   "cell_type": "markdown",
   "metadata": {},
   "source": [
    "#### Regression and Model Selection – `full_by_facility`"
   ]
  },
  {
   "attachments": {},
   "cell_type": "markdown",
   "metadata": {},
   "source": [
    "##### Split `full_by_facility` into training and testing sets"
   ]
  },
  {
   "cell_type": "code",
   "execution_count": 170,
   "metadata": {},
   "outputs": [],
   "source": [
    "X = full_by_facility.iloc[:, full_by_facility.columns != 'compensation'].to_numpy()\n",
    "y = full_by_facility['compensation'].to_numpy().reshape(-1,1)\n",
    "\n",
    "X_train, X_test, y_train, y_test = train_test_split(X, y, test_size = .33, random_state=123)"
   ]
  },
  {
   "attachments": {},
   "cell_type": "markdown",
   "metadata": {},
   "source": [
    "##### Fit Linear Regression Model + Initial Metrics"
   ]
  },
  {
   "cell_type": "code",
   "execution_count": 174,
   "metadata": {},
   "outputs": [
    {
     "name": "stdout",
     "output_type": "stream",
     "text": [
      "Accuracy score of model:  -0.2006153130318058\n",
      "Mean squared error of model:  2897306341176633.5\n"
     ]
    }
   ],
   "source": [
    "m1 = LinearRegression()\n",
    "\n",
    "m1 = m1.fit(X_train, y_train)\n",
    "\n",
    "prediction = m1.predict(X_test)\n",
    "\n",
    "accuracy = m1.score(X_test, y_test)\n",
    "\n",
    "MSE = mean_squared_error(y_test, prediction)\n",
    "\n",
    "print(\"Accuracy score of model: \", accuracy)\n",
    "print(\"Mean squared error of model: \", MSE)"
   ]
  },
  {
   "cell_type": "code",
   "execution_count": null,
   "metadata": {},
   "outputs": [],
   "source": []
  }
 ],
 "metadata": {
  "kernelspec": {
   "display_name": "base",
   "language": "python",
   "name": "python3"
  },
  "language_info": {
   "codemirror_mode": {
    "name": "ipython",
    "version": 3
   },
   "file_extension": ".py",
   "mimetype": "text/x-python",
   "name": "python",
   "nbconvert_exporter": "python",
   "pygments_lexer": "ipython3",
   "version": "3.9.12"
  },
  "orig_nbformat": 4,
  "vscode": {
   "interpreter": {
    "hash": "a0e1a6da8fdfbd8e8573f5b6deb86d22b24be091808eb94e3ca2f0153b1bbe18"
   }
  }
 },
 "nbformat": 4,
 "nbformat_minor": 2
}
